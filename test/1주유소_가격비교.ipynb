{
 "cells": [
  {
   "cell_type": "markdown",
   "metadata": {},
   "source": [
    "### 부산시 주유소 유가 데이터 전처리\n",
    "#### 기간 : 20220214~20220809\n",
    "#### 주차별 평균으로 사용"
   ]
  },
  {
   "cell_type": "code",
   "execution_count": null,
   "metadata": {},
   "outputs": [],
   "source": [
    "import pandas as pd\n",
    "import seaborn as sns\n",
    "import numpy as np\n",
    "import folium\n",
    "import re\n",
    "\n",
    "import matplotlib\n",
    "import matplotlib.pyplot as plt\n",
    "from matplotlib import font_manager, rc\n",
    "from wordcloud import WordCloud\n",
    "\n",
    "from datetime import datetime\n",
    "import time"
   ]
  },
  {
   "cell_type": "code",
   "execution_count": null,
   "metadata": {},
   "outputs": [],
   "source": [
    "font_path = 'C:/windows/fonts/NanumBarunpenB.ttf'\n",
    "font_name = font_manager.FontProperties(fname=font_path).get_name()\n",
    "rc('font', family=font_name)"
   ]
  },
  {
   "cell_type": "code",
   "execution_count": null,
   "metadata": {},
   "outputs": [],
   "source": [
    "# 글자 선명\n",
    "from IPython.display import set_matplotlib_formats\n",
    "\n",
    "set_matplotlib_formats(\"retina\")"
   ]
  },
  {
   "cell_type": "code",
   "execution_count": null,
   "metadata": {},
   "outputs": [],
   "source": [
    "#데이터 불러오기 \n",
    "data = pd.read_csv('./data/부산시 주유소 유가 데이터(20220209-20220809).csv', encoding='utf-8', sep=',')\n",
    "data.head()"
   ]
  },
  {
   "cell_type": "markdown",
   "metadata": {},
   "source": [
    "#### 데이터 확인"
   ]
  },
  {
   "cell_type": "code",
   "execution_count": null,
   "metadata": {},
   "outputs": [],
   "source": [
    "data.info()"
   ]
  },
  {
   "cell_type": "code",
   "execution_count": null,
   "metadata": {},
   "outputs": [],
   "source": [
    "data.isnull().sum()"
   ]
  },
  {
   "cell_type": "code",
   "execution_count": null,
   "metadata": {},
   "outputs": [],
   "source": [
    "data.describe()"
   ]
  },
  {
   "cell_type": "code",
   "execution_count": null,
   "metadata": {},
   "outputs": [],
   "source": [
    "#휘발유 0값 추출\n",
    "data[data[\"휘발유\"] == 0].head()"
   ]
  },
  {
   "cell_type": "code",
   "execution_count": null,
   "metadata": {},
   "outputs": [],
   "source": [
    "#경유 0값 추출\n",
    "len(data[data[\"경유\"] == 0])"
   ]
  },
  {
   "cell_type": "markdown",
   "metadata": {},
   "source": [
    "#### 데이터 전처리 시작"
   ]
  },
  {
   "cell_type": "markdown",
   "metadata": {},
   "source": [
    "##### 0 -> NaN"
   ]
  },
  {
   "cell_type": "code",
   "execution_count": null,
   "metadata": {},
   "outputs": [],
   "source": [
    "data['휘발유'] = data['휘발유'].replace(0,np.NaN)\n",
    "data['경유'] = data['경유'].replace(0,np.NaN)"
   ]
  },
  {
   "cell_type": "markdown",
   "metadata": {},
   "source": [
    "#### 경유 정리\n",
    "#### 경유 NaN 추출"
   ]
  },
  {
   "cell_type": "code",
   "execution_count": null,
   "metadata": {},
   "outputs": [],
   "source": [
    "# 전체 내용을 보기 위해서 max_rows 설정\n",
    "pd.set_option('display.max_rows',250)"
   ]
  },
  {
   "cell_type": "code",
   "execution_count": null,
   "metadata": {},
   "outputs": [],
   "source": [
    "data[data['경유'].isnull()]"
   ]
  },
  {
   "cell_type": "markdown",
   "metadata": {},
   "source": [
    "#### 결측치 채워넣기\n",
    "#### 경유는 결측치 별로 없어서 전체 주유소의 특정 기간 앞,뒤 유가 비교 후 채우기\n",
    "- 4월에 결측치가 많다.\n",
    "    - 20220401을 대표로 앞, 뒤 비교 후 어떻게 채울지 결정"
   ]
  },
  {
   "cell_type": "code",
   "execution_count": null,
   "metadata": {},
   "outputs": [],
   "source": [
    "data[(data['기간']==20220330)|(data['기간']==20220331)|(data['기간']==20220401)|(data['기간']==20220402)|(data['기간']==20220403)].head(40)"
   ]
  },
  {
   "cell_type": "markdown",
   "metadata": {},
   "source": [
    "##### 대체로 앞의 기간과 유가가 동일하다고 보여지므로 앞의 유가로 NaN 채우기"
   ]
  },
  {
   "cell_type": "code",
   "execution_count": null,
   "metadata": {},
   "outputs": [],
   "source": [
    "data['경유']=data['경유'].fillna(method='ffill')"
   ]
  },
  {
   "cell_type": "code",
   "execution_count": null,
   "metadata": {},
   "outputs": [],
   "source": [
    "data[data['경유'].isnull()]"
   ]
  },
  {
   "cell_type": "markdown",
   "metadata": {},
   "source": [
    "#### 휘발유 정리\n",
    "#### 휘발유 NaN 추출"
   ]
  },
  {
   "cell_type": "code",
   "execution_count": null,
   "metadata": {},
   "outputs": [],
   "source": [
    "data[data['휘발유'].isnull()]"
   ]
  },
  {
   "cell_type": "markdown",
   "metadata": {},
   "source": [
    "#### 결측치 확인\n",
    "#### 굿오일주유소: 휘발유값 전체날짜에 NaN -> 경유만 파는 곳임을 확인\n",
    "- 부산시 주유소 나타낼 때는 필요\n",
    "- 주유소별 가격비교할 때는 필요X\n",
    "    - ~contains"
   ]
  },
  {
   "cell_type": "code",
   "execution_count": null,
   "metadata": {},
   "outputs": [],
   "source": [
    "data = data[~data['상호'].str.contains('굿오일주유소')]"
   ]
  },
  {
   "cell_type": "markdown",
   "metadata": {},
   "source": [
    "#### (주)동일주유소: 2월 휘발유값 없다.\n",
    "- (주)동일주유소의 경유값이 앞의 날짜와 동일하게 책정되어 있으므로 휘발유값도 앞의 날짜로 채우기"
   ]
  },
  {
   "cell_type": "code",
   "execution_count": null,
   "metadata": {},
   "outputs": [],
   "source": [
    "data[data['상호']=='(주)동일주유소'].head(30)"
   ]
  },
  {
   "cell_type": "markdown",
   "metadata": {},
   "source": [
    "#### 그 외 주유소 확인\n",
    "- 경유와 마찬가지로 4월에 누락이 많아서 대표로 확인하기"
   ]
  },
  {
   "cell_type": "code",
   "execution_count": null,
   "metadata": {},
   "outputs": [],
   "source": [
    "data[(data['기간']==20220330)|(data['기간']==20220331)|(data['기간']==20220401)|(data['기간']==20220402)|(data['기간']==20220403)].head(40)"
   ]
  },
  {
   "cell_type": "markdown",
   "metadata": {},
   "source": [
    "#### 결측치 채워넣기\n",
    "#### 경유와 마찬가지로 앞의 기간과 유가가 동일하다고 보여지므로 앞의 유가로 NaN 채우기"
   ]
  },
  {
   "cell_type": "code",
   "execution_count": null,
   "metadata": {},
   "outputs": [],
   "source": [
    "data['휘발유']=data['휘발유'].fillna(method='ffill')"
   ]
  },
  {
   "cell_type": "code",
   "execution_count": null,
   "metadata": {},
   "outputs": [],
   "source": [
    "data[data['휘발유'].isnull()]"
   ]
  },
  {
   "cell_type": "markdown",
   "metadata": {},
   "source": [
    "#### 최종 결과 확인"
   ]
  },
  {
   "cell_type": "code",
   "execution_count": null,
   "metadata": {},
   "outputs": [],
   "source": [
    "data.info()"
   ]
  },
  {
   "cell_type": "markdown",
   "metadata": {},
   "source": [
    "#### 결측치를 유가로 채워넣은 내용 새 파일에 저장하기"
   ]
  },
  {
   "cell_type": "code",
   "execution_count": null,
   "metadata": {},
   "outputs": [],
   "source": [
    "data.to_csv('./data/부산시유가데이터_fillna.csv', index=False, encoding='utf-8')"
   ]
  },
  {
   "cell_type": "markdown",
   "metadata": {},
   "source": [
    "#### 연도별 주차 평균 데이터"
   ]
  },
  {
   "cell_type": "code",
   "execution_count": null,
   "metadata": {},
   "outputs": [],
   "source": [
    "#int64->object->datetime 타입변경\n",
    "data['기간'] = pd.to_datetime(data['기간'].astype(str))\n",
    "data.info()"
   ]
  },
  {
   "cell_type": "code",
   "execution_count": null,
   "metadata": {},
   "outputs": [],
   "source": [
    "#연도별 주차 컬럼 생성\n",
    "data[\"주차\"] = data[\"기간\"].dt.isocalendar().week"
   ]
  },
  {
   "cell_type": "code",
   "execution_count": null,
   "metadata": {},
   "outputs": [],
   "source": [
    "data.head(10)"
   ]
  },
  {
   "cell_type": "markdown",
   "metadata": {},
   "source": [
    "#### 주차별 휘발유/경유 평균 가격 비교"
   ]
  },
  {
   "cell_type": "code",
   "execution_count": null,
   "metadata": {},
   "outputs": [],
   "source": [
    "#주차별 휘발유 평균 가격(반올림, int로 변경)\n",
    "weekly_avg_oil = data.groupby([\"주차\"])[\"휘발유\",\"경유\"].mean().round().astype(\"int\")\n",
    "weekly_avg_oil"
   ]
  },
  {
   "cell_type": "code",
   "execution_count": null,
   "metadata": {},
   "outputs": [],
   "source": [
    "#컬럼명 변경\n",
    "weekly_avg_oil.rename(columns={\"휘발유\" : \"휘발유_평균가격\", \"경유\" : \"경유_평균가격\"}, inplace=True)\n",
    "weekly_avg_oil"
   ]
  },
  {
   "cell_type": "markdown",
   "metadata": {},
   "source": [
    "#### 주차별 평균가격 변화 추세 시각화"
   ]
  },
  {
   "cell_type": "code",
   "execution_count": null,
   "metadata": {},
   "outputs": [],
   "source": [
    "from turtle import width\n",
    "\n",
    "\n",
    "ax1 = weekly_avg_oil.index\n",
    "ax2 = weekly_avg_oil.휘발유_평균가격\n",
    "ax3 = weekly_avg_oil.경유_평균가격\n",
    "\n",
    "plt.figure(figsize=(40,10))\n",
    "a = plt.plot(ax1, ax2, label='휘발유 평균 가격', linestyle=\"-.\", color='Hotpink', linewidth=5, alpha=0.5) # 휘발유 평균 가격\n",
    "b = plt.plot(ax1, ax3, label='경유 평균 가격', linestyle=\":\", color='green', linewidth=5, alpha=0.5) # 경유 평균 가격\n",
    "p = [a,b]\n",
    "\n",
    "plt.title(\"2022년 주차별 휘발유/경유 평균가격 추세\", fontsize=40)\n",
    "plt.xticks(ax1, fontsize=20, labels=[\"2월 3째주\",\"2월 4째주\",\n",
    "                                     \"3월 1째주\",\"3월 2째주\",\"3월 3째주\",\"3월 4째주\",\"3월 5째주\",\n",
    "                                     \"4월 1째주\",\"4월 2째주\",\"4월 3째주\",\"4월 4째주\",\n",
    "                                     \"5월 1째주\",\"5월 2째주\",\"5월 3째주\",\"5월 4째주\",\n",
    "                                     \"6월 1째주\",\"6월 2째주\",\"6월 3째주\",\"6월 4째주\",\"6월 5째주\",\n",
    "                                     \"7월 1째주\",\"7월 2째주\",\"7월 3째주\",\"7월 4째주\",\n",
    "                                     \"8월 1째주\",\"8월 2째주\"], rotation=45) # x축\n",
    "plt.text(11.8,2015,'휘발유 평균 가격',fontsize=30) # 그래프 이름\n",
    "plt.text(12,1850,'경유 평균 가격',fontsize=30)\n",
    "plt.yticks(np.arange(1500, 2300, 25) ,fontsize=15) # y축\n",
    "plt.xlabel(\"주차(weeks)\", fontsize=25) #x 축 이름\n",
    "plt.ylabel(\"가격(원)\", fontsize=25) # y축 이름\n",
    "#plt.legend(loc=\"best\",ncol=2, fontsize= 20, shadow=True) # 범례\n",
    "plt.grid()\n",
    "\n",
    "plt.show()"
   ]
  },
  {
   "cell_type": "markdown",
   "metadata": {},
   "source": [
    "#### 상표별 휘발유/경유 평균 가격 비교"
   ]
  },
  {
   "cell_type": "code",
   "execution_count": null,
   "metadata": {},
   "outputs": [],
   "source": [
    "#상표별 휘발유/경유 평균가격(반올림, int로 변경)\n",
    "brand_avg_oil = data.groupby([\"상표\"])[\"휘발유\",\"경유\"].mean().round().astype(\"int\")\n",
    "brand_avg_oil"
   ]
  },
  {
   "cell_type": "code",
   "execution_count": null,
   "metadata": {},
   "outputs": [],
   "source": [
    "#컬럼명 변경\n",
    "brand_avg_oil.rename(columns={\"휘발유\" : \"휘발유_평균가격\", \"경유\" : \"경유_평균가격\"}, inplace=True)\n",
    "brand_avg_oil"
   ]
  },
  {
   "cell_type": "markdown",
   "metadata": {},
   "source": [
    "#### 상표별 평균 가격 비교(22년 2월14일 ~ 8월 9일) 시각화"
   ]
  },
  {
   "cell_type": "code",
   "execution_count": null,
   "metadata": {},
   "outputs": [],
   "source": [
    "w = 0.28 #widths\n",
    "nrow = brand_avg_oil.shape[0] #행의 갯수\n",
    "idx = np.arange(nrow) #행의 갯수를 리스트로\n",
    "idx\n",
    "\n",
    "\n",
    "plt.figure(figsize=(20,10))\n",
    "plt.bar(idx-w, brand_avg_oil[\"휘발유_평균가격\"], width=w, align=\"edge\", color=\"yellow\", alpha=0.5, hatch='+')\n",
    "plt.bar(idx+w-0.14, brand_avg_oil[\"경유_평균가격\"], width=w, color=\"green\", alpha=0.5, hatch='x')\n",
    "plt.title(\"상표별 유가 비교 그래프\", fontsize=35)\n",
    "plt.xticks(idx, brand_avg_oil.index, fontsize=15) # x축\n",
    "plt.yticks(np.arange(0,2300, 100), fontsize=15) # y축\n",
    "plt.xlabel(\"상표명\", fontsize=15) #x 축 이름\n",
    "plt.ylabel(\"가격(원)\", fontsize=15) # y축 이름\n",
    "plt.legend(brand_avg_oil.columns, loc=\"best\", ncol=nrow, fontsize= 15, shadow=True) # 범례\n",
    "plt.grid(alpha=0.3)\n",
    "\n",
    "for idx, value in enumerate(list(brand_avg_oil[\"휘발유_평균가격\"])): # 휘발유 가격 표시\n",
    "        txt = '%d원' % value\n",
    "        plt.text(idx,value,txt,horizontalalignment='right',\n",
    "                verticalalignment='bottom', fontsize= 13)\n",
    "\n",
    "for idx, value in enumerate(list(brand_avg_oil[\"경유_평균가격\"])): # 경유 가격 표시\n",
    "        txt = '%d원' % value\n",
    "        plt.text(idx,value,txt,horizontalalignment='left',\n",
    "                verticalalignment='bottom', fontsize= 13)\n",
    "\n",
    "\n",
    "plt.show()"
   ]
  },
  {
   "cell_type": "markdown",
   "metadata": {},
   "source": [
    "#### 가격 변동 추이 영상화"
   ]
  },
  {
   "cell_type": "markdown",
   "metadata": {},
   "source": [
    "!pip install bar_chart_race"
   ]
  },
  {
   "cell_type": "markdown",
   "metadata": {},
   "source": [
    "!pip install ffmpeg"
   ]
  },
  {
   "cell_type": "code",
   "execution_count": null,
   "metadata": {},
   "outputs": [],
   "source": [
    "\n",
    "import bar_chart_race as bcr\n",
    "from matplotlib.animation import FuncAnimation\n",
    "import matplotlib.ticker as ticker\n",
    "import matplotlib.animation as animation\n",
    "from IPython.display import HTML\n",
    "import ffmpeg"
   ]
  },
  {
   "cell_type": "markdown",
   "metadata": {},
   "source": [
    "## 전처리"
   ]
  },
  {
   "cell_type": "code",
   "execution_count": null,
   "metadata": {},
   "outputs": [],
   "source": [
    "data.info()"
   ]
  },
  {
   "cell_type": "code",
   "execution_count": null,
   "metadata": {},
   "outputs": [],
   "source": [
    "data['기간'] = pd.to_datetime(data['기간'], format='%Y%m%d')"
   ]
  },
  {
   "cell_type": "code",
   "execution_count": null,
   "metadata": {},
   "outputs": [],
   "source": [
    "data = data[['기간','상표', '셀프여부', '휘발유', '경유']]\n",
    "data.head()"
   ]
  },
  {
   "cell_type": "code",
   "execution_count": null,
   "metadata": {},
   "outputs": [],
   "source": [
    "data[\"상표셀프여부\"] = data[\"상표\"] + data[\"셀프여부\"]\n",
    "data.head()"
   ]
  },
  {
   "cell_type": "code",
   "execution_count": null,
   "metadata": {},
   "outputs": [],
   "source": [
    "data = data.drop(data.columns[[1, 2]], axis=1) \n",
    "data.tail()"
   ]
  },
  {
   "cell_type": "code",
   "execution_count": null,
   "metadata": {},
   "outputs": [],
   "source": [
    "data_diesel = data.drop(data.columns[[1]], axis=1) \n",
    "data_diesel.tail(5)"
   ]
  },
  {
   "cell_type": "code",
   "execution_count": null,
   "metadata": {},
   "outputs": [],
   "source": [
    "data_gasolin = data.drop(data.columns[[2]], axis=1) \n",
    "data_gasolin.tail(5)"
   ]
  },
  {
   "cell_type": "code",
   "execution_count": null,
   "metadata": {},
   "outputs": [],
   "source": [
    "data_gasolin = data_gasolin.pivot_table(values = '휘발유', index = ['기간'], columns = '상표셀프여부')\n",
    "data_gasolin.tail()"
   ]
  },
  {
   "cell_type": "code",
   "execution_count": null,
   "metadata": {},
   "outputs": [],
   "source": [
    "data_diesel = data_diesel.pivot_table(values = '경유', index = ['기간'], columns = '상표셀프여부')\n",
    "data_diesel.tail()"
   ]
  },
  {
   "cell_type": "code",
   "execution_count": null,
   "metadata": {},
   "outputs": [],
   "source": [
    "data_diesel.columns[0]"
   ]
  },
  {
   "cell_type": "code",
   "execution_count": null,
   "metadata": {},
   "outputs": [],
   "source": [
    "data_diesel.index\n"
   ]
  },
  {
   "cell_type": "markdown",
   "metadata": {},
   "source": [
    "### bar_chart_race 을 이용한 가격 변동 추이 영상 만들기"
   ]
  },
  {
   "cell_type": "code",
   "execution_count": null,
   "metadata": {},
   "outputs": [],
   "source": [
    "bcr.bar_chart_race(data_gasolin,\n",
    "                    n_bars=14,\n",
    "                    figsize=(6,4),\n",
    "                    sort='desc',\n",
    "                    title='휘발유 가격 변동 추이',\n",
    "                    fixed_max= True,\n",
    "                    period_fmt='%B %d, %Y',\n",
    "                    filename='./data/gasolin_price.mp4',\n",
    "                    \n",
    "                    perpendicular_bar_func='median'\n",
    "                    )"
   ]
  },
  {
   "cell_type": "code",
   "execution_count": null,
   "metadata": {},
   "outputs": [],
   "source": [
    "bcr.bar_chart_race(data_diesel,\n",
    "                    n_bars=14,\n",
    "                    figsize=(6,4),\n",
    "                    sort='desc',\n",
    "                    title='경유 가격 변동 추이',\n",
    "                    fixed_max= True,\n",
    "                    period_fmt='%B %d, %Y',\n",
    "                    filename='./data/disel_price.mp4',\n",
    "                    \n",
    "                    perpendicular_bar_func='median'\n",
    "                    )\n"
   ]
  },
  {
   "cell_type": "markdown",
   "metadata": {},
   "source": [
    "#### 부산시 구별 월평균 휘발유 가격 비교"
   ]
  },
  {
   "cell_type": "code",
   "execution_count": null,
   "metadata": {},
   "outputs": [],
   "source": [
    "data = pd.read_csv('./data/부산시유가데이터_fillna.csv', encoding='utf-8')\n",
    "data"
   ]
  },
  {
   "cell_type": "code",
   "execution_count": null,
   "metadata": {},
   "outputs": [],
   "source": [
    "#int64->object->datetime 타입변경\n",
    "data['기간'] = pd.to_datetime(data['기간'].astype(str))\n",
    "data.info()"
   ]
  },
  {
   "cell_type": "code",
   "execution_count": null,
   "metadata": {},
   "outputs": [],
   "source": [
    "#연도별 주차 컬럼 생성\n",
    "data[\"주차\"] = data[\"기간\"].dt.isocalendar().week"
   ]
  },
  {
   "cell_type": "code",
   "execution_count": null,
   "metadata": {},
   "outputs": [],
   "source": [
    "#월(month) 열 추가\n",
    "data[\"월\"] = data[\"기간\"].dt.month \n",
    "data.sample(5)"
   ]
  },
  {
   "cell_type": "code",
   "execution_count": null,
   "metadata": {},
   "outputs": [],
   "source": [
    "#지역별, 월별 휘발유/경유 평균 가격(반올림, int로 변경)\n",
    "gu_monthly_oil_avg_price = data.groupby([\"지역\",\"월\"])[\"휘발유\",\"경유\"].mean().round().astype(\"int\")\n",
    "gu_monthly_oil_avg_price"
   ]
  },
  {
   "cell_type": "code",
   "execution_count": null,
   "metadata": {},
   "outputs": [],
   "source": [
    "gu_monthly_oil_max_price = gu_monthly_oil_avg_price.groupby([\"지역\"])[[\"휘발유\",\"경유\"]].max()\n",
    "gu_monthly_oil_max_price"
   ]
  },
  {
   "cell_type": "markdown",
   "metadata": {},
   "source": [
    "#### 부산시 구별 휘발유/경유 월평균 가격 시각화"
   ]
  },
  {
   "cell_type": "code",
   "execution_count": null,
   "metadata": {},
   "outputs": [],
   "source": [
    "w = 0.28 #widths\n",
    "nrow = gu_monthly_oil_max_price.shape[0] #행의 갯수\n",
    "idx = np.arange(nrow) #행의 갯수를 리스트로\n",
    "idx\n",
    "\n",
    "\n",
    "plt.figure(figsize=(40,20))\n",
    "plt.bar(idx-w, gu_monthly_oil_max_price[\"휘발유\"], width=w, align=\"edge\", color=\"yellow\", alpha=0.5)\n",
    "plt.bar(idx+w-0.14, gu_monthly_oil_max_price[\"경유\"], width=w, color=\"green\", alpha=0.5)\n",
    "plt.title(\"행정구별 월평균 유가 비교 그래프\", fontsize=35)\n",
    "plt.xticks(idx, gu_monthly_oil_max_price.index, fontsize=15) # x축\n",
    "plt.yticks(np.arange(0,2400, 100), fontsize=15) # y축\n",
    "plt.xlabel(\"행정구\", fontsize=15) #x 축 이름\n",
    "plt.ylabel(\"가격(원)\", fontsize=15) # y축 이름\n",
    "plt.legend(gu_monthly_oil_max_price.columns, loc=\"best\", ncol=nrow, fontsize= 20, shadow=True) # 범례\n",
    "plt.grid(alpha=0.3)\n",
    "\n",
    "for idx, value in enumerate(list(gu_monthly_oil_max_price[\"휘발유\"])): # 휘발유 가격 표시\n",
    "        txt = '%d원' % value\n",
    "        plt.text(idx,value,txt,horizontalalignment='right',\n",
    "                verticalalignment='bottom', fontsize= 15)\n",
    "\n",
    "for idx, value in enumerate(list(gu_monthly_oil_max_price[\"경유\"])): # 경유 가격 표시\n",
    "        txt = '%d원' % value\n",
    "        plt.text(idx,value,txt,horizontalalignment='left',\n",
    "                verticalalignment='bottom', fontsize= 15)\n",
    "\n",
    "plt.show()"
   ]
  },
  {
   "cell_type": "code",
   "execution_count": null,
   "metadata": {},
   "outputs": [],
   "source": [
    "import json\n",
    "import folium"
   ]
  },
  {
   "cell_type": "code",
   "execution_count": null,
   "metadata": {},
   "outputs": [],
   "source": [
    "path = 'C:\\localRepository\\Busan-Oil-Price-Analysis\\data\\행정구별.geojson'"
   ]
  },
  {
   "cell_type": "code",
   "execution_count": null,
   "metadata": {},
   "outputs": [],
   "source": [
    "rfile = open(path,'r',encoding='utf8').read()\n",
    "jsonfile = json.loads(rfile)\n",
    "\n",
    "json_busan = {'type':'FeatureCollection'}\n",
    "json_pick = []\n",
    "json_gu = []\n",
    "\n",
    "for item in jsonfile['features']:\n",
    "    gu = item['properties']['SIG_ENG_NM']\n",
    "    item['id'] = gu\n",
    "    json_gu.append(gu)\n",
    "    json_pick.append(item)\n",
    "\n",
    "json_busan['features'] = json_pick"
   ]
  },
  {
   "cell_type": "code",
   "execution_count": null,
   "metadata": {},
   "outputs": [],
   "source": [
    "gu_monthly_oil_max_price['ENG_NM'] = ['Gangseo-gu', 'Geumjeong-gu', 'Gijang-gun', 'Nam-gu', 'Dong-gu', 'Dongnae-gu', 'jin-gu', 'Buk-gu', 'Sasang-gu', 'Saha-gu', 'Seo-gu', 'Suyeong-gu', 'Yeonje-gu', 'Yeongdo-gu', 'Jung-gu', 'Haeundae-gu']\n",
    "gu_monthly_oil_max_price"
   ]
  },
  {
   "cell_type": "code",
   "execution_count": null,
   "metadata": {},
   "outputs": [],
   "source": [
    "map = folium.Map((35.1795543,129.0756416), zoom_start=10)\n",
    "choropleth = folium.Choropleth(json_busan,\n",
    "                  data=gu_monthly_oil_max_price,\n",
    "                  columns=['ENG_NM', '휘발유'],\n",
    "                  key_on='feature.id',\n",
    "                  fill_color='Accent').add_to(map)\n",
    "\n",
    "choropleth.geojson.add_child(\n",
    "    folium.features.GeoJsonTooltip(['SIG_ENG_NM'], lables=False)\n",
    ")\n",
    "\n",
    "map"
   ]
  },
  {
   "cell_type": "code",
   "execution_count": null,
   "metadata": {},
   "outputs": [],
   "source": [
    "map = folium.Map((35.1795543,129.0756416), zoom_start=10)\n",
    "choropleth = folium.Choropleth(json_busan,\n",
    "                  data=gu_monthly_oil_max_price,\n",
    "                  columns=['ENG_NM', '경유'],\n",
    "                  key_on='feature.id',\n",
    "                  fill_color='Accent').add_to(map)\n",
    "\n",
    "choropleth.geojson.add_child(\n",
    "    folium.features.GeoJsonTooltip(['SIG_ENG_NM'], lables=False)\n",
    ")\n",
    "\n",
    "map"
   ]
  }
 ],
 "metadata": {
  "kernelspec": {
   "display_name": "Python 3.10.6 64-bit (windows store)",
   "language": "python",
   "name": "python3"
  },
  "language_info": {
   "codemirror_mode": {
    "name": "ipython",
    "version": 3
   },
   "file_extension": ".py",
   "mimetype": "text/x-python",
   "name": "python",
   "nbconvert_exporter": "python",
   "pygments_lexer": "ipython3",
   "version": "3.10.6"
  },
  "orig_nbformat": 4,
  "vscode": {
   "interpreter": {
    "hash": "8bf0d51478355d2251941b3b98616086516a0eddd7c72ee47a3371765770709a"
   }
  }
 },
 "nbformat": 4,
 "nbformat_minor": 2
}
