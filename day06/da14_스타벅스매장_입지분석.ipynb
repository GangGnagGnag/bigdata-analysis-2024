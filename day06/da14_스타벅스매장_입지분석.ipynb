{
 "cells": [
  {
   "cell_type": "markdown",
   "metadata": {},
   "source": [
    "## 빅데이터 실습\n",
    "\n",
    "### 스타벅스매장 입지 분석\n",
    "\n",
    "#### 데이터 수집\n",
    "\n",
    "##### 웹사이트 제공 엑셀파일 수정 "
   ]
  },
  {
   "cell_type": "code",
   "execution_count": 2,
   "metadata": {},
   "outputs": [],
   "source": [
    "# 필수 라이브러리 사용등록\n",
    "import pandas as pd\n",
    "import numpy as np"
   ]
  },
  {
   "cell_type": "code",
   "execution_count": 4,
   "metadata": {},
   "outputs": [
    {
     "data": {
      "text/html": [
       "<div>\n",
       "<style scoped>\n",
       "    .dataframe tbody tr th:only-of-type {\n",
       "        vertical-align: middle;\n",
       "    }\n",
       "\n",
       "    .dataframe tbody tr th {\n",
       "        vertical-align: top;\n",
       "    }\n",
       "\n",
       "    .dataframe thead th {\n",
       "        text-align: right;\n",
       "    }\n",
       "</style>\n",
       "<table border=\"1\" class=\"dataframe\">\n",
       "  <thead>\n",
       "    <tr style=\"text-align: right;\">\n",
       "      <th></th>\n",
       "      <th>docity</th>\n",
       "      <th>do</th>\n",
       "      <th>city</th>\n",
       "      <th>longitude</th>\n",
       "      <th>latitude</th>\n",
       "    </tr>\n",
       "  </thead>\n",
       "  <tbody>\n",
       "    <tr>\n",
       "      <th>290</th>\n",
       "      <td>충청충주시</td>\n",
       "      <td>충청</td>\n",
       "      <td>충주시</td>\n",
       "      <td>127.928144</td>\n",
       "      <td>36.988181</td>\n",
       "    </tr>\n",
       "    <tr>\n",
       "      <th>291</th>\n",
       "      <td>충청태안군</td>\n",
       "      <td>충청</td>\n",
       "      <td>태안군</td>\n",
       "      <td>126.299975</td>\n",
       "      <td>36.742667</td>\n",
       "    </tr>\n",
       "    <tr>\n",
       "      <th>292</th>\n",
       "      <td>충청한누리대로</td>\n",
       "      <td>충청</td>\n",
       "      <td>한누리대로</td>\n",
       "      <td>127.289926</td>\n",
       "      <td>36.485450</td>\n",
       "    </tr>\n",
       "    <tr>\n",
       "      <th>293</th>\n",
       "      <td>충청홍성군</td>\n",
       "      <td>충청</td>\n",
       "      <td>홍성군</td>\n",
       "      <td>126.662908</td>\n",
       "      <td>36.598361</td>\n",
       "    </tr>\n",
       "    <tr>\n",
       "      <th>294</th>\n",
       "      <td>충청대전시</td>\n",
       "      <td>충청</td>\n",
       "      <td>대전시</td>\n",
       "      <td>127.384862</td>\n",
       "      <td>36.350630</td>\n",
       "    </tr>\n",
       "  </tbody>\n",
       "</table>\n",
       "</div>"
      ],
      "text/plain": [
       "      docity  do   city   longitude   latitude\n",
       "290    충청충주시  충청    충주시  127.928144  36.988181\n",
       "291    충청태안군  충청    태안군  126.299975  36.742667\n",
       "292  충청한누리대로  충청  한누리대로  127.289926  36.485450\n",
       "293    충청홍성군  충청    홍성군  126.662908  36.598361\n",
       "294    충청대전시  충청    대전시  127.384862  36.350630"
      ]
     },
     "execution_count": 4,
     "metadata": {},
     "output_type": "execute_result"
    }
   ],
   "source": [
    "dfSeoulManicipality = pd.read_excel('./data/전국_시군구_위경도.xlsx')\n",
    "dfSeoulManicipality.tail()"
   ]
  },
  {
   "cell_type": "code",
   "execution_count": 6,
   "metadata": {},
   "outputs": [],
   "source": [
    "# 서울만 필터링\n",
    "condition = dfSeoulManicipality['do'] == '서울'\n",
    "dfSeoulGeo= dfSeoulManicipality[condition]"
   ]
  },
  {
   "cell_type": "code",
   "execution_count": 7,
   "metadata": {},
   "outputs": [
    {
     "name": "stdout",
     "output_type": "stream",
     "text": [
      "<class 'pandas.core.frame.DataFrame'>\n",
      "Index: 25 entries, 138 to 162\n",
      "Data columns (total 5 columns):\n",
      " #   Column     Non-Null Count  Dtype  \n",
      "---  ------     --------------  -----  \n",
      " 0   docity     25 non-null     object \n",
      " 1   do         25 non-null     object \n",
      " 2   city       25 non-null     object \n",
      " 3   longitude  25 non-null     float64\n",
      " 4   latitude   25 non-null     float64\n",
      "dtypes: float64(2), object(3)\n",
      "memory usage: 1.2+ KB\n"
     ]
    }
   ],
   "source": [
    "dfSeoulGeo.info()"
   ]
  },
  {
   "cell_type": "code",
   "execution_count": 9,
   "metadata": {},
   "outputs": [],
   "source": [
    "# 필요로 만든 데이터는 항상 저장해둘 것\n",
    "dfSeoulGeo.to_excel('./data/수정_서울_시군구_위경도.xlsx',index=False)"
   ]
  },
  {
   "cell_type": "code",
   "execution_count": 15,
   "metadata": {},
   "outputs": [
    {
     "name": "stderr",
     "output_type": "stream",
     "text": [
      "c:\\DEV\\Python312\\Lib\\site-packages\\openpyxl\\styles\\stylesheet.py:226: UserWarning: Workbook contains no default style, apply openpyxl's default\n",
      "  warn(\"Workbook contains no default style, apply openpyxl's default\")\n"
     ]
    },
    {
     "data": {
      "text/html": [
       "<div>\n",
       "<style scoped>\n",
       "    .dataframe tbody tr th:only-of-type {\n",
       "        vertical-align: middle;\n",
       "    }\n",
       "\n",
       "    .dataframe tbody tr th {\n",
       "        vertical-align: top;\n",
       "    }\n",
       "\n",
       "    .dataframe thead th {\n",
       "        text-align: right;\n",
       "    }\n",
       "</style>\n",
       "<table border=\"1\" class=\"dataframe\">\n",
       "  <thead>\n",
       "    <tr style=\"text-align: right;\">\n",
       "      <th></th>\n",
       "      <th>구</th>\n",
       "      <th>세대소계</th>\n",
       "      <th>성별소계</th>\n",
       "      <th>남</th>\n",
       "      <th>여</th>\n",
       "      <th>한국인소계</th>\n",
       "      <th>남자</th>\n",
       "      <th>여자</th>\n",
       "      <th>등록외국인소계</th>\n",
       "      <th>남자</th>\n",
       "      <th>여자</th>\n",
       "      <th>세대당인구</th>\n",
       "      <th>65세이상</th>\n",
       "    </tr>\n",
       "  </thead>\n",
       "  <tbody>\n",
       "    <tr>\n",
       "      <th>21</th>\n",
       "      <td>관악구</td>\n",
       "      <td>249026</td>\n",
       "      <td>248857</td>\n",
       "      <td>481956</td>\n",
       "      <td>242651</td>\n",
       "      <td>239305</td>\n",
       "      <td>15927</td>\n",
       "      <td>6375</td>\n",
       "      <td>9552</td>\n",
       "      <td>284877</td>\n",
       "      <td>497757</td>\n",
       "      <td>248951</td>\n",
       "      <td>248806</td>\n",
       "    </tr>\n",
       "    <tr>\n",
       "      <th>22</th>\n",
       "      <td>서초구</td>\n",
       "      <td>196391</td>\n",
       "      <td>215687</td>\n",
       "      <td>407664</td>\n",
       "      <td>194291</td>\n",
       "      <td>213373</td>\n",
       "      <td>4414</td>\n",
       "      <td>2100</td>\n",
       "      <td>2314</td>\n",
       "      <td>170015</td>\n",
       "      <td>412178</td>\n",
       "      <td>196318</td>\n",
       "      <td>215860</td>\n",
       "    </tr>\n",
       "    <tr>\n",
       "      <th>23</th>\n",
       "      <td>강남구</td>\n",
       "      <td>262991</td>\n",
       "      <td>287291</td>\n",
       "      <td>544873</td>\n",
       "      <td>260520</td>\n",
       "      <td>284353</td>\n",
       "      <td>5409</td>\n",
       "      <td>2471</td>\n",
       "      <td>2938</td>\n",
       "      <td>241315</td>\n",
       "      <td>554620</td>\n",
       "      <td>265115</td>\n",
       "      <td>289505</td>\n",
       "    </tr>\n",
       "    <tr>\n",
       "      <th>24</th>\n",
       "      <td>송파구</td>\n",
       "      <td>316981</td>\n",
       "      <td>343044</td>\n",
       "      <td>654166</td>\n",
       "      <td>314347</td>\n",
       "      <td>339819</td>\n",
       "      <td>5859</td>\n",
       "      <td>2634</td>\n",
       "      <td>3225</td>\n",
       "      <td>286180</td>\n",
       "      <td>659963</td>\n",
       "      <td>316902</td>\n",
       "      <td>343061</td>\n",
       "    </tr>\n",
       "    <tr>\n",
       "      <th>25</th>\n",
       "      <td>강동구</td>\n",
       "      <td>226237</td>\n",
       "      <td>237081</td>\n",
       "      <td>459167</td>\n",
       "      <td>224423</td>\n",
       "      <td>234744</td>\n",
       "      <td>4151</td>\n",
       "      <td>1814</td>\n",
       "      <td>2337</td>\n",
       "      <td>203950</td>\n",
       "      <td>463566</td>\n",
       "      <td>226265</td>\n",
       "      <td>237301</td>\n",
       "    </tr>\n",
       "  </tbody>\n",
       "</table>\n",
       "</div>"
      ],
      "text/plain": [
       "      구    세대소계    성별소계       남       여   한국인소계     남자    여자  등록외국인소계      남자  \\\n",
       "21  관악구  249026  248857  481956  242651  239305  15927  6375     9552  284877   \n",
       "22  서초구  196391  215687  407664  194291  213373   4414  2100     2314  170015   \n",
       "23  강남구  262991  287291  544873  260520  284353   5409  2471     2938  241315   \n",
       "24  송파구  316981  343044  654166  314347  339819   5859  2634     3225  286180   \n",
       "25  강동구  226237  237081  459167  224423  234744   4151  1814     2337  203950   \n",
       "\n",
       "        여자   세대당인구   65세이상  \n",
       "21  497757  248951  248806  \n",
       "22  412178  196318  215860  \n",
       "23  554620  265115  289505  \n",
       "24  659963  316902  343061  \n",
       "25  463566  226265  237301  "
      ]
     },
     "execution_count": 15,
     "metadata": {},
     "output_type": "execute_result"
    }
   ],
   "source": [
    "## 서울시 구별 인구데이터 로드\n",
    "columns = ['구','세대소계','성별소계','남','여','한국인소계','남자','여자','등록외국인소계','남자','여자','세대당인구','65세이상']\n",
    "dfSeoulPop = pd.read_excel('./data/서울시_구별_인구데이터.xlsx',header=2, usecols=\"B,O:Z\")\n",
    "dfSeoulPop.columns = columns\n",
    "dfSeoulPop.tail()"
   ]
  },
  {
   "cell_type": "code",
   "execution_count": 17,
   "metadata": {},
   "outputs": [],
   "source": [
    "## 서울시 인구 데이터 저장\n",
    "dfSeoulPop.to_excel('./data/수정_서울_인구구별.xlsx', index=False)"
   ]
  },
  {
   "cell_type": "code",
   "execution_count": 23,
   "metadata": {},
   "outputs": [
    {
     "name": "stderr",
     "output_type": "stream",
     "text": [
      "c:\\DEV\\Python312\\Lib\\site-packages\\openpyxl\\styles\\stylesheet.py:226: UserWarning: Workbook contains no default style, apply openpyxl's default\n",
      "  warn(\"Workbook contains no default style, apply openpyxl's default\")\n"
     ]
    }
   ],
   "source": [
    "## 서울시 구별 사업체현황 로드\n",
    "dfSeoulWork = pd.read_excel('./data/서울시_구별_사업체현황.xlsx',header=4,usecols='B:G')\n",
    "dfSeoulWork\n",
    "columns = ['구','소계','여성대표자','성별소계','남자','여자']\n",
    "dfSeoulWork.columns = columns"
   ]
  },
  {
   "cell_type": "code",
   "execution_count": 24,
   "metadata": {},
   "outputs": [
    {
     "data": {
      "text/html": [
       "<div>\n",
       "<style scoped>\n",
       "    .dataframe tbody tr th:only-of-type {\n",
       "        vertical-align: middle;\n",
       "    }\n",
       "\n",
       "    .dataframe tbody tr th {\n",
       "        vertical-align: top;\n",
       "    }\n",
       "\n",
       "    .dataframe thead th {\n",
       "        text-align: right;\n",
       "    }\n",
       "</style>\n",
       "<table border=\"1\" class=\"dataframe\">\n",
       "  <thead>\n",
       "    <tr style=\"text-align: right;\">\n",
       "      <th></th>\n",
       "      <th>구</th>\n",
       "      <th>소계</th>\n",
       "      <th>여성대표자</th>\n",
       "      <th>성별소계</th>\n",
       "      <th>남자</th>\n",
       "      <th>여자</th>\n",
       "    </tr>\n",
       "  </thead>\n",
       "  <tbody>\n",
       "    <tr>\n",
       "      <th>21</th>\n",
       "      <td>관악구</td>\n",
       "      <td>37915</td>\n",
       "      <td>13641</td>\n",
       "      <td>128417</td>\n",
       "      <td>68392</td>\n",
       "      <td>60025</td>\n",
       "    </tr>\n",
       "    <tr>\n",
       "      <th>22</th>\n",
       "      <td>서초구</td>\n",
       "      <td>71958</td>\n",
       "      <td>23066</td>\n",
       "      <td>487976</td>\n",
       "      <td>290084</td>\n",
       "      <td>197892</td>\n",
       "    </tr>\n",
       "    <tr>\n",
       "      <th>23</th>\n",
       "      <td>강남구</td>\n",
       "      <td>110007</td>\n",
       "      <td>35453</td>\n",
       "      <td>801419</td>\n",
       "      <td>447809</td>\n",
       "      <td>353610</td>\n",
       "    </tr>\n",
       "    <tr>\n",
       "      <th>24</th>\n",
       "      <td>송파구</td>\n",
       "      <td>74531</td>\n",
       "      <td>25400</td>\n",
       "      <td>400781</td>\n",
       "      <td>244588</td>\n",
       "      <td>156193</td>\n",
       "    </tr>\n",
       "    <tr>\n",
       "      <th>25</th>\n",
       "      <td>강동구</td>\n",
       "      <td>41660</td>\n",
       "      <td>15226</td>\n",
       "      <td>157465</td>\n",
       "      <td>83415</td>\n",
       "      <td>74050</td>\n",
       "    </tr>\n",
       "  </tbody>\n",
       "</table>\n",
       "</div>"
      ],
      "text/plain": [
       "      구      소계  여성대표자    성별소계      남자      여자\n",
       "21  관악구   37915  13641  128417   68392   60025\n",
       "22  서초구   71958  23066  487976  290084  197892\n",
       "23  강남구  110007  35453  801419  447809  353610\n",
       "24  송파구   74531  25400  400781  244588  156193\n",
       "25  강동구   41660  15226  157465   83415   74050"
      ]
     },
     "execution_count": 24,
     "metadata": {},
     "output_type": "execute_result"
    }
   ],
   "source": [
    "dfSeoulWork.tail()"
   ]
  },
  {
   "cell_type": "code",
   "execution_count": null,
   "metadata": {},
   "outputs": [],
   "source": [
    "## 서울시 구별 사업체현황 저장\n",
    "dfSeoulWork.to_excel('./data/수정_서울_구별사업체.xlsx',index=False)"
   ]
  }
 ],
 "metadata": {
  "kernelspec": {
   "display_name": "Python 3",
   "language": "python",
   "name": "python3"
  },
  "language_info": {
   "codemirror_mode": {
    "name": "ipython",
    "version": 3
   },
   "file_extension": ".py",
   "mimetype": "text/x-python",
   "name": "python",
   "nbconvert_exporter": "python",
   "pygments_lexer": "ipython3",
   "version": "3.12.2"
  }
 },
 "nbformat": 4,
 "nbformat_minor": 2
}
